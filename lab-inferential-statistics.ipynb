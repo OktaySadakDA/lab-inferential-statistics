{
 "cells": [
  {
   "cell_type": "markdown",
   "id": "7e170da7",
   "metadata": {},
   "source": [
    "# Lab | Inferential statistics"
   ]
  },
  {
   "cell_type": "markdown",
   "id": "f822f723",
   "metadata": {},
   "source": [
    "- It is assumed that the mean systolic blood pressure is μ = 120 mm Hg. In the Honolulu Heart Study, a sample of n = 100 people had an average systolic blood pressure of 130.1 mm Hg with a standard deviation of 21.21 mm Hg. Is the group significantly different (with respect to systolic blood pressure!) from the regular population?\n",
    "\n",
    "- Write down all the steps followed for setting up the test.\n",
    "- Calculate the test statistic by hand and also code it in Python. It should be 4.76190. We will take a look at how to make decisions based on this calculated value.\n"
   ]
  },
  {
   "cell_type": "markdown",
   "id": "2ca7c2e9",
   "metadata": {},
   "source": [
    "### Set up the hypothesis test.\n"
   ]
  },
  {
   "cell_type": "code",
   "execution_count": null,
   "id": "9017fdfc",
   "metadata": {},
   "outputs": [],
   "source": [
    "H0 = 120 mm HG (null hypotesis)\n",
    "Ha =! 120 mm HG (alternative hypotesis)"
   ]
  },
  {
   "cell_type": "markdown",
   "id": "a812e693",
   "metadata": {},
   "source": [
    "### Write down all the steps followed for setting up the test.\n"
   ]
  },
  {
   "cell_type": "markdown",
   "id": "46391d6b",
   "metadata": {},
   "source": [
    "- 1. Define the Null Hypotesis"
   ]
  },
  {
   "cell_type": "markdown",
   "id": "354cb7f0",
   "metadata": {},
   "source": [
    "H0 = 120 mm HG (null hypotesis)"
   ]
  },
  {
   "cell_type": "markdown",
   "id": "6b2fbae3",
   "metadata": {},
   "source": [
    "- 2.Define the alternative hypothesis."
   ]
  },
  {
   "cell_type": "markdown",
   "id": "d9edbfb2",
   "metadata": {},
   "source": [
    "Ha =! 120 mm HG (alternative hypotesis)"
   ]
  },
  {
   "cell_type": "markdown",
   "id": "22e3681b",
   "metadata": {},
   "source": [
    "- 3.Decide a test statistics based on the information available."
   ]
  },
  {
   "cell_type": "markdown",
   "id": "e2fb0917",
   "metadata": {},
   "source": [
    "T-test."
   ]
  },
  {
   "cell_type": "markdown",
   "id": "208987f7",
   "metadata": {},
   "source": [
    "- 4.Level of significance"
   ]
  },
  {
   "cell_type": "markdown",
   "id": "aa3edaf5",
   "metadata": {},
   "source": [
    "α = 0.05"
   ]
  },
  {
   "cell_type": "markdown",
   "id": "db857ccb",
   "metadata": {},
   "source": [
    "- 5.Calculate the test statistic based on the given information."
   ]
  },
  {
   "cell_type": "markdown",
   "id": "8770707c",
   "metadata": {},
   "source": [
    "Mean of the sample = 130.1 \n",
    "\n",
    "Assumed Mean = 120 \n",
    "\n",
    "Standard deviation = 21.21\n",
    "\n",
    "Number of samples = 100\n",
    "\n",
    "tstatistic = (Mean of the sample - Assumed Mean) / (Standard deviation / √Number of samples)\n",
    "tstatistic = (130.1 - 120) / (21.21 / √100)\n",
    "tstatistic = 4.76190"
   ]
  },
  {
   "cell_type": "markdown",
   "id": "8cb44026",
   "metadata": {},
   "source": [
    "### Calculate the test statistic by hand and also code it in Python. It should be 4.76190. We will take a look at how to make decisions based on this calculated value."
   ]
  },
  {
   "cell_type": "code",
   "execution_count": 12,
   "id": "9591da25",
   "metadata": {},
   "outputs": [],
   "source": [
    "import numpy as np\n",
    "\n",
    "sm= 130.1\n",
    "am= 120\n",
    "s= 100\n",
    "std= 21.21"
   ]
  },
  {
   "cell_type": "code",
   "execution_count": 13,
   "id": "e3e6e7be",
   "metadata": {},
   "outputs": [
    {
     "name": "stdout",
     "output_type": "stream",
     "text": [
      "4.761904761904759\n"
     ]
    }
   ],
   "source": [
    "tstatistic = (sm-am)/(std/np.sqrt(s))\n",
    "print(tstatistic)"
   ]
  }
 ],
 "metadata": {
  "kernelspec": {
   "display_name": "Python 3 (ipykernel)",
   "language": "python",
   "name": "python3"
  },
  "language_info": {
   "codemirror_mode": {
    "name": "ipython",
    "version": 3
   },
   "file_extension": ".py",
   "mimetype": "text/x-python",
   "name": "python",
   "nbconvert_exporter": "python",
   "pygments_lexer": "ipython3",
   "version": "3.10.9"
  }
 },
 "nbformat": 4,
 "nbformat_minor": 5
}
